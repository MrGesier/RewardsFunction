import numpy as np
import pandas as pd
import matplotlib.pyplot as plt

def constant_distribution(n, total_amount):
    constant_value = total_amount / n
    distribution_values = np.full(n, constant_value)
    cumulative_distribution_amount = np.cumsum(distribution_values)
    return distribution_values, cumulative_distribution_amount

def create_distribution_table(n, cumulative_distribution_amount):
    df = pd.DataFrame({
        'Step': np.arange(1, n + 1),
        'Cumulative Distribution Amount': cumulative_distribution_amount
    })
    return df

def gini_coefficient(values):
    sorted_values = np.sort(values)
    n = len(values)
    indexed_sum = np.sum((np.arange(1, n+1) * sorted_values))
    total_sum = np.sum(values)
    gini = (2 * indexed_sum) / (n * total_sum) - (n + 1) / n
    return gini

n = 50  # number of steps
total_amount = 8000000  # total amount to be distributed

distribution_values, cumulative_distribution_amount = constant_distribution(n, total_amount)

# Plotting the distribution sequence and cumulative distribution amounts
fig, ax1 = plt.subplots(figsize=(10, 6))
ax1.set_xlabel('Discrete Time Steps')
ax1.set_ylabel('Distribution Value', color='tab:blue')
ax1.stem(np.arange(1, n + 1), distribution_values, linefmt='b-', markerfmt='bo', basefmt=' ', label='Constant Distribution Value')
ax1.tick_params(axis='y', labelcolor='tab:blue')
ax2 = ax1.twinx()
ax2.set_ylabel('Cumulative Distribution Amount', color='tab:red')
ax2.plot(np.arange(1, n + 1), cumulative_distribution_amount, color='tab:red', label='Cumulative Distribution Amount')
ax2.tick_params(axis='y', labelcolor='tab:red')
fig.tight_layout()
plt.title("Constant Distribution Leading to Linear Cumulative Distribution")
plt.show()

distribution_table_constant = create_distribution_table(n, cumulative_distribution_amount)
print(distribution_table_constant.tail())

# Calculate Gini coefficient for the constant distribution values
gini_coeff = gini_coefficient(distribution_values)
print(f"Gini Coefficient: {gini_coeff:.4f}")
