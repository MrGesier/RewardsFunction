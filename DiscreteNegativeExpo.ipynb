import numpy as np
import pandas as pd
import matplotlib.pyplot as plt

def adjust_decay_constant_for_half_life(n, half_life, total_amount):
    decay_constant_min = 0
    decay_constant_max = 1
    tolerance = 0.01

    while decay_constant_max - decay_constant_min > tolerance:
        decay_constant = (decay_constant_max + decay_constant_min) / 2
        decay_values = 100 * np.exp(-decay_constant * np.arange(n))
        decay_values = np.clip(decay_values, 0, 100)
        normalized_decay = decay_values / np.sum(decay_values)
        cumulative_distribution_amount = np.cumsum(normalized_decay * total_amount)

        distributed_at_half_life = cumulative_distribution_amount[int(half_life) - 1]

        if np.isclose(distributed_at_half_life, total_amount / 2, rtol=0.05):
            return decay_constant
        elif distributed_at_half_life < total_amount / 2:
            decay_constant_min = decay_constant
        else:
            decay_constant_max = decay_constant

    return decay_constant

def create_distribution_table(n, cumulative_distribution_amount):
    df = pd.DataFrame({
        'Step': np.arange(1, n + 1),
        'Cumulative Distribution Amount': cumulative_distribution_amount
    })
    return df

def gini_coefficient(values):
    sorted_values = np.sort(values)
    n = len(values)
    indexed_sum = np.sum((np.arange(1, n+1) * sorted_values))
    total_sum = np.sum(values)
    gini = (2 * indexed_sum) / (n * total_sum) - (n + 1) / n
    return gini

# Parameters
n = 48
half_life = 18
total_amount = 8000000

# Adjust decay constant and recalculate the cumulative distribution
adjusted_decay_constant = adjust_decay_constant_for_half_life(n, half_life, total_amount)
decay_values_adjusted = 100 * np.exp(-adjusted_decay_constant * np.arange(n))
decay_values_adjusted = np.clip(decay_values_adjusted, 0, 100)
normalized_decay_adjusted = decay_values_adjusted / np.sum(decay_values_adjusted)
cumulative_distribution_amount_adjusted = np.cumsum(normalized_decay_adjusted * total_amount)

# Plotting the adjusted decay sequence and cumulative distribution amounts
fig, ax1 = plt.subplots(figsize=(10, 6))

ax1.set_xlabel('Discrete Time Steps')
ax1.set_ylabel('Adjusted Decay Value', color='tab:blue')
# Updated stem call without use_line_collection
ax1.stem(decay_values_adjusted, linefmt='b-', markerfmt='bo', basefmt=' ', label='Adjusted Decay Value')
ax1.tick_params(axis='y', labelcolor='tab:blue')

ax2 = ax1.twinx()
ax2.set_ylabel('Adjusted Cumulative Distribution Amount', color='tab:red')
ax2.plot(cumulative_distribution_amount_adjusted, color='tab:red', label='Adjusted Cumulative Distribution Amount')
ax2.tick_params(axis='y', labelcolor='tab:red')

fig.tight_layout()
plt.title("Adjusted Discrete Negative Exponential Decay and Cumulative Distribution Amount")
plt.show()


# Create the distribution table
distribution_table = create_distribution_table(n, cumulative_distribution_amount_adjusted)
print(distribution_table.tail())

# Calculate Gini coefficient for the adjusted decay values
gini_coeff = gini_coefficient(normalized_decay_adjusted)
print(f"Gini Coefficient: {gini_coeff:.4f}")
