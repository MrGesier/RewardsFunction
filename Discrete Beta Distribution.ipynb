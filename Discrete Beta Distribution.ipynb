import numpy as np
import pandas as pd
import matplotlib.pyplot as plt

def beta_distribution_sequence_symmetric(n, shape_factor, total_amount):
    x = np.linspace(0, 1, n)
    beta_distribution_values = (x ** (shape_factor - 1) * (1 - x) ** (shape_factor - 1)) / \
                                np.sum((x ** (shape_factor - 1) * (1 - x) ** (shape_factor - 1)))
    cumulative_distribution_amount = np.cumsum(beta_distribution_values * total_amount)
    return beta_distribution_values, cumulative_distribution_amount

def create_distribution_table(n, cumulative_distribution_amount):
    df = pd.DataFrame({
        'Step': np.arange(1, n + 1),
        'Cumulative Distribution Amount': cumulative_distribution_amount
    })
    return df

def plot_beta_and_cumulative_distribution(beta_values, cumulative_distribution_amount, n):
    fig, ax1 = plt.subplots(figsize=(10, 6))
    ax1.set_xlabel('Discrete Time Steps')
    ax1.set_ylabel('Beta Distribution Value', color='tab:blue')
    ax1.stem(np.arange(1, n + 1), beta_values, linefmt='b-', markerfmt='bo', basefmt=' ')
    ax1.tick_params(axis='y', labelcolor='tab:blue')

    ax2 = ax1.twinx()
    ax2.set_ylabel('Cumulative Distribution Amount', color='tab:red')
    ax2.plot(np.arange(1, n + 1), cumulative_distribution_amount, color='tab:red')
    ax2.tick_params(axis='y', labelcolor='tab:red')

    fig.tight_layout()
    plt.title("Discrete Beta Distribution and Cumulative Distribution Amount")
    plt.show()

def gini_coefficient(values):
    sorted_values = np.sort(values)
    n = len(values)
    indexed_sum = np.sum((np.arange(1, n+1) * sorted_values))
    total_sum = np.sum(values)
    gini = (2 * indexed_sum) / (n * total_sum) - (n + 1) / n
    return gini

# Parameters for symmetric Beta distribution
n = 48
shape_factor = 1.75  # Adjust this value to change the distribution shape
total_amount = 205000000

# Generate and plot the distributions
beta_values_symmetric, beta_cumulative_distribution_amount_symmetric = beta_distribution_sequence_symmetric(n, shape_factor, total_amount)
plot_beta_and_cumulative_distribution(beta_values_symmetric, beta_cumulative_distribution_amount_symmetric, n)

# Create and display the distribution table
distribution_table_symmetric = create_distribution_table(n, beta_cumulative_distribution_amount_symmetric)
print(distribution_table_symmetric.tail())

# Calculate Gini coefficient for the Beta distribution values (not the cumulative amounts)
gini_coeff = gini_coefficient(beta_values_symmetric)
print(f"Gini Coefficient: {gini_coeff:.4f}")
